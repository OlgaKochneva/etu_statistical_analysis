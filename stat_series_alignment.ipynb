{
 "cells": [
  {
   "cell_type": "code",
   "execution_count": 1,
   "id": "8513c8cf-4273-48bc-ab62-0357c8498375",
   "metadata": {},
   "outputs": [],
   "source": [
    "import pandas as pd\n",
    "import numpy as np"
   ]
  },
  {
   "cell_type": "code",
   "execution_count": 2,
   "id": "9f0772c8-8143-48ae-a095-9e7f350bf227",
   "metadata": {},
   "outputs": [],
   "source": [
    "# sample size\n",
    "N = 115"
   ]
  },
  {
   "cell_type": "code",
   "execution_count": 3,
   "id": "a09039b7-53b4-4cc6-b10d-9025ead8dd11",
   "metadata": {},
   "outputs": [],
   "source": [
    "# read data and separate experimental values in different ndarrays\n",
    "# TODO: make reading using numpy, if we wouldn't need pandas at all\n",
    "data = pd.read_csv('input_data/sample.csv')\n",
    "v_sample, E_sample = np.array(data['v']), np.array(data['E'])"
   ]
  },
  {
   "cell_type": "code",
   "execution_count": 4,
   "id": "13ef7e89-b51f-4e2e-8eb2-fdf5f453cef0",
   "metadata": {},
   "outputs": [],
   "source": [
    "# SERIES\n",
    "\n",
    "# ranked series (increasing order)\n",
    "v_ranked, E_ranked = np.sort(v_sample), np.sort(E_sample)\n",
    "\n",
    "# variation series\n",
    "v_variation = np.array(np.unique(v_ranked, return_counts=True))\n",
    "E_variation = np.array(np.unique(E_ranked, return_counts=True))"
   ]
  },
  {
   "cell_type": "code",
   "execution_count": null,
   "id": "024d5e73-0c4b-450f-94e4-d7cf2c60d8ae",
   "metadata": {},
   "outputs": [],
   "source": []
  }
 ],
 "metadata": {
  "kernelspec": {
   "display_name": "Python 3 (ipykernel)",
   "language": "python",
   "name": "python3"
  },
  "language_info": {
   "codemirror_mode": {
    "name": "ipython",
    "version": 3
   },
   "file_extension": ".py",
   "mimetype": "text/x-python",
   "name": "python",
   "nbconvert_exporter": "python",
   "pygments_lexer": "ipython3",
   "version": "3.10.12"
  }
 },
 "nbformat": 4,
 "nbformat_minor": 5
}
